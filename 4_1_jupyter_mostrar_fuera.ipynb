{
 "cells": [
  {
   "cell_type": "code",
   "execution_count": 11,
   "metadata": {},
   "outputs": [
    {
     "name": "stdout",
     "output_type": "stream",
     "text": [
      "Warning: Cannot change to a different GUI toolkit: notebook. Using qt instead.\n"
     ]
    }
   ],
   "source": [
    "%matplotlib notebook\n",
    "import cv2\n",
    "import numpy\n",
    "import matplotlib.pyplot as plt\n"
   ]
  },
  {
   "cell_type": "code",
   "execution_count": 10,
   "metadata": {},
   "outputs": [
    {
     "data": {
      "text/plain": [
       "Text(0.5, 1.0, 'original')"
      ]
     },
     "execution_count": 10,
     "metadata": {},
     "output_type": "execute_result"
    }
   ],
   "source": [
    "image = cv2.imread('imgs/69.jpeg')\n",
    "image_copy = image.copy()\n",
    "# RGB to BGR\n",
    "image_BGR = cv2.cvtColor(image, cv2.COLOR_RGB2BGR) \n",
    "# image_RGB = image\n",
    "image_gray = cv2.cvtColor(image_copy, cv2.COLOR_BGR2GRAY)\n",
    "\n",
    "fig, axes = plt.subplots(1, 5, figsize=(24,12))\n",
    "\n",
    "# Color image\n",
    "axes[0].imshow(image_BGR)\n",
    "axes[0].set_title('original')\n",
    "axes[1].imshow(image_BGR)\n",
    "axes[1].set_title('original')\n",
    "axes[2].imshow(image_BGR)\n",
    "axes[2].set_title('original')\n",
    "axes[3].imshow(image_BGR)\n",
    "axes[3].set_title('original')\n",
    "axes[4].imshow(image_BGR)\n",
    "axes[4].set_title('original')\n"
   ]
  },
  {
   "cell_type": "code",
   "execution_count": null,
   "metadata": {},
   "outputs": [],
   "source": []
  }
 ],
 "metadata": {
  "kernelspec": {
   "display_name": "Python 3",
   "language": "python",
   "name": "python3"
  },
  "language_info": {
   "codemirror_mode": {
    "name": "ipython",
    "version": 3
   },
   "file_extension": ".py",
   "mimetype": "text/x-python",
   "name": "python",
   "nbconvert_exporter": "python",
   "pygments_lexer": "ipython3",
   "version": "3.7.2"
  }
 },
 "nbformat": 4,
 "nbformat_minor": 2
}
