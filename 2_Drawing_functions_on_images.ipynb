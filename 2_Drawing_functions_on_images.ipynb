{
 "cells": [
  {
   "cell_type": "markdown",
   "metadata": {
    "colab_type": "text",
    "id": "view-in-github"
   },
   "source": [
    "<a href=\"https://colab.research.google.com/github/JaledMC/Learning-Artificial-Vision/blob/master/Import_images.ipynb\" target=\"_parent\"><img src=\"https://colab.research.google.com/assets/colab-badge.svg\" alt=\"Open In Colab\"/></a>"
   ]
  },
  {
   "cell_type": "markdown",
   "metadata": {},
   "source": [
    "# 2. Drawing functions on images\n",
    "\n",
    "It is possible to realize arithmetic operations on images using *OpenCV*."
   ]
  },
  {
   "cell_type": "code",
   "execution_count": 1,
   "metadata": {},
   "outputs": [],
   "source": [
    "import cv2\n",
    "import numpy as np\n",
    "import matplotlib.pyplot as plt"
   ]
  },
  {
   "cell_type": "markdown",
   "metadata": {},
   "source": [
    "## Read image and create a list of images\n",
    "\n",
    "Read image and create a list of images containing the original picture and its copies.\n",
    "\n",
    "\n",
    "**_IMPORTANT_** : There are some methods in `cv2` that modifies the original image. So it is important to create a copy using *Python* method  `copy()` in order to mantaing the original image and aporate in copies."
   ]
  },
  {
   "cell_type": "code",
   "execution_count": 2,
   "metadata": {},
   "outputs": [],
   "source": [
    "image = cv2.imread('/home/betegon/Siali/jupyter_notebooks/windows.png')\n",
    "image = cv2.cvtColor(image, cv2.COLOR_BGR2RGB)\n",
    "photos = []\n",
    "\n",
    "# Generate multiple image clones of the image in a list\n",
    "for i in range(7):\n",
    "    photos.append(image.copy())\n",
    "\n"
   ]
  },
  {
   "cell_type": "markdown",
   "metadata": {},
   "source": [
    "## Operate on images\n",
    "\n",
    "* Draw a line.\n",
    "* Draw a circle.\n",
    "* Draw a rectangle.\n",
    "* Draw a polygon.\n",
    "* Insert text\n",
    "\n",
    "\n",
    "**_Good practice_**: Use relative drawing, this is using formulas like: \n",
    "    $line_{width} = (width*height)/100$\n",
    "\n",
    "\n",
    "**_Note_**: Reload images (*code block below*) every time you want to draw again as if e.g.:\n",
    "   \n",
    "   <span style=\"color:red\">**WRONG**</span>:\n",
    "   1. Draw a 50px width line.\n",
    "   2. Draw a 20px width line (no effect because there is a 50px width line from last time.\n",
    "   \n",
    "   \n",
    "   <span style=\"color:green\">**RIGHT**</span>:\n",
    "   1. Draw a 50px width line.\n",
    "   3. Reload images.\n",
    "   2. Draw a 20px width line (no effect because there is a 50px width line from last time.\n",
    "  \n",
    "**_SEE ALL OPERATIONS BELOW_**"
   ]
  },
  {
   "cell_type": "markdown",
   "metadata": {},
   "source": [
    "### Draw a line\n",
    "\n",
    "To draw a line it is possible to use `cv2`'s method `line`. \n",
    "\n",
    "`cv2.line(image, (start coordinate, finish coordinate), color, width);`"
   ]
  },
  {
   "cell_type": "code",
   "execution_count": 3,
   "metadata": {},
   "outputs": [
    {
     "name": "stdout",
     "output_type": "stream",
     "text": [
      "line width: 12\n"
     ]
    }
   ],
   "source": [
    "width, height, dimension = photos[1].shape\n",
    "line_width = int(width*height/4000)\n",
    "\n",
    "# check line_width\n",
    "print(\"line width:\",line_width)\n",
    "\n",
    "cv2.line(photos[1], (0, 0), (1150, 450), (250, 250, 250), line_width);\n",
    " # If you want to see output and check that there are 250 250 250 value pixels, delete ;"
   ]
  },
  {
   "cell_type": "markdown",
   "metadata": {},
   "source": [
    "### Draw a circle\n",
    "\n",
    "To draw a circle it is possible to use `cv2`'s method `circle`. \n",
    "\n",
    "`cv2.circle(image, centre_coordinate, radius, color, width)`\n",
    "**_note_**: If `width` value is negative, then the circle if filled: (*negative == fill*)\n"
   ]
  },
  {
   "cell_type": "code",
   "execution_count": 4,
   "metadata": {},
   "outputs": [],
   "source": [
    "# Filled circle\n",
    "cv2.circle(photos[2], (int(height/2), int(width/2)), 50, (230, 10, 200), -1);\n",
    "\n",
    "# Normal circle\n",
    "cv2.circle(photos[3], (int(height/2), int(width/2)), 50, (230, 10, 200), int(line_width/2));\n"
   ]
  },
  {
   "cell_type": "markdown",
   "metadata": {},
   "source": [
    "### Draw a rectangle\n",
    "\n",
    "To draw a rectangle it is possible to use `cv2`'s method `rectangle`.\n",
    "\n",
    "`cv2.rectangle(image, border_coor_1, border_coor_2, color, width)`"
   ]
  },
  {
   "cell_type": "code",
   "execution_count": 5,
   "metadata": {},
   "outputs": [],
   "source": [
    "cv2.rectangle(photos[4], (int(height/2)-35, int(width/2)-35), (int(height/2)+35, int(width/2)+35), (200, 30, 200), int(line_width/3));  \n"
   ]
  },
  {
   "cell_type": "markdown",
   "metadata": {},
   "source": [
    "### Draw a polygon\n",
    "\n",
    "To draw a polygon it is possible to use `cv2`'s method `polylines`. \n",
    "\n",
    " set of points. Params: \n",
    " \n",
    " `cv2.polycicles(image, points, close-shape, color, width)`\n"
   ]
  },
  {
   "cell_type": "code",
   "execution_count": 7,
   "metadata": {},
   "outputs": [],
   "source": [
    "# first select some points in form of a numpy array\n",
    "points = np.array([[10, 10], [20, 106], [130, 200], [58, 20], [10, 30]], np.int32)\n",
    "\n",
    "cv2.polylines(photos[5], [points], True, (255, 30, 100), int(line_width/2));  \n"
   ]
  },
  {
   "cell_type": "markdown",
   "metadata": {},
   "source": [
    " ### Insert text in image\n",
    " \n",
    " to put text on the image it is possible to use `cv2`'s method `putText`.\n",
    " \n",
    " `cv2.putText(image, text, origin, font, fontScale, color, thickness, lineType)`"
   ]
  },
  {
   "cell_type": "code",
   "execution_count": 8,
   "metadata": {},
   "outputs": [],
   "source": [
    "font = cv2.FONT_HERSHEY_SIMPLEX\n",
    "\n",
    "text = 'OpenCV'\n",
    "cv2.putText(photos[6], text, (int(height/2)-60, int(width/2)-60), font, 1, (200, 255, 155), 3, cv2.LINE_AA);\n"
   ]
  },
  {
   "cell_type": "code",
   "execution_count": 9,
   "metadata": {
    "scrolled": true
   },
   "outputs": [
    {
     "data": {
      "image/png": "[encoded data removed]",
      "text/plain": [
       "<Figure size 3456x1728 with 7 Axes>"
      ]
     },
     "metadata": {},
     "output_type": "display_data"
    }
   ],
   "source": [
    "fig, axes = plt.subplots(1, 7, figsize=(48, 24))\n",
    "\n",
    "\n",
    "# color image\n",
    "axes[0].imshow(photos[0])\n",
    "axes[0].set_title('original')\n",
    "\n",
    "\n",
    "axes[1].imshow(photos[1])\n",
    "axes[1].set_title('line')\n",
    "\n",
    "\n",
    "axes[2].imshow(photos[2])\n",
    "axes[2].set_title('Circle')\n",
    "\n",
    "axes[3].imshow(photos[3])\n",
    "axes[3].set_title('Filled Circle')\n",
    "\n",
    "axes[4].imshow(photos[4])\n",
    "axes[4].set_title('Square')\n",
    "\n",
    "axes[5].imshow(photos[5])\n",
    "axes[5].set_title('Poligon')\n",
    "\n",
    "axes[6].imshow(photos[6])\n",
    "axes[6].set_title('Text')\n",
    "\n",
    "for ax in axes:\n",
    "    ax.set_xticks([])\n",
    "    ax.set_yticks([])"
   ]
  },
  {
   "cell_type": "markdown",
   "metadata": {},
   "source": [
    "## Wrap up\n",
    "\n",
    "Following points need to be clear in your mind to be able to advance in `cv2`:\n",
    "\n",
    "* Create a copy of the image in order to not rewrite the original:\n",
    "    * *idea:* list of images.\n",
    "    \n",
    "* Reload images: \n",
    "    *  Reset list of images.\n",
    "   \n",
    "* Draw on images:\n",
    "    *  Use relative drawing so it is simple to refactor when you change images.\n",
    "    *  OpenCV has different shapes to draw including text."
   ]
  },
  {
   "cell_type": "code",
   "execution_count": null,
   "metadata": {},
   "outputs": [],
   "source": []
  }
 ],
 "metadata": {
  "colab": {
   "collapsed_sections": [],
   "include_colab_link": true,
   "name": "Import_images.ipynb",
   "provenance": [],
   "version": "0.3.2"
  },
  "kernelspec": {
   "display_name": "Python 3",
   "language": "python",
   "name": "python3"
  },
  "language_info": {
   "codemirror_mode": {
    "name": "ipython",
    "version": 3
   },
   "file_extension": ".py",
   "mimetype": "text/x-python",
   "name": "python",
   "nbconvert_exporter": "python",
   "pygments_lexer": "ipython3",
   "version": "3.7.2"
  }
 },
 "nbformat": 4,
 "nbformat_minor": 1
}
